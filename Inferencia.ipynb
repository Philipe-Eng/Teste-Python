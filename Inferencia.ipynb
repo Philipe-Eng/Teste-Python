{
  "nbformat": 4,
  "nbformat_minor": 0,
  "metadata": {
    "colab": {
      "name": "Inferencia.ipynb",
      "provenance": [],
      "toc_visible": true,
      "mount_file_id": "1QKZhIU4-e4_gDpLsG_TLxEXUNIAhq4_P",
      "authorship_tag": "ABX9TyPXdOqkepx6sNUIRieAeeef",
      "include_colab_link": true
    },
    "kernelspec": {
      "name": "python3",
      "display_name": "Python 3"
    }
  },
  "cells": [
    {
      "cell_type": "markdown",
      "metadata": {
        "id": "view-in-github",
        "colab_type": "text"
      },
      "source": [
        "<a href=\"https://colab.research.google.com/github/Philipe-Eng/Teste-Python/blob/main/Inferencia.ipynb\" target=\"_parent\"><img src=\"https://colab.research.google.com/assets/colab-badge.svg\" alt=\"Open In Colab\"/></a>"
      ]
    },
    {
      "cell_type": "markdown",
      "metadata": {
        "id": "0ngnD_jICJHP"
      },
      "source": [
        "# Inferencia estatística para uma amostra simples\n",
        "### Objetivo:\n",
        "\n",
        "\n",
        "1.   Avaliar se os dados amostrados são normalmente distribuidos; \n",
        "2.   Avaliar se a média da nota final das pessoas que fizeram o curso é 75;\n",
        "3.   Verificar se o desvio padrão é 5\n",
        "\n",
        "Teste utilizados:\n",
        "* t de Studante \n",
        "* qui- quadrado \n",
        "* teste de normalidade ()"
      ]
    },
    {
      "cell_type": "code",
      "metadata": {
        "id": "QUR7gfj9CO_W"
      },
      "source": [
        "# importando as bibliotecas\n",
        "import pandas as pd\n",
        "import matplotlib.pyplot as plt\n",
        "import numpy as np"
      ],
      "execution_count": null,
      "outputs": []
    },
    {
      "cell_type": "code",
      "metadata": {
        "colab": {
          "base_uri": "https://localhost:8080/",
          "height": 197
        },
        "id": "n5L5KUJBCWil",
        "outputId": "65a1751c-86c3-4406-d1bc-318246876c45"
      },
      "source": [
        "# lendo o arquivo xlsx\n",
        "df = pd.read_excel('/content/drive/MyDrive/python /Dados TCC/Arquivos/Avaliação.xlsx')\n",
        "df.head()"
      ],
      "execution_count": null,
      "outputs": [
        {
          "output_type": "execute_result",
          "data": {
            "text/html": [
              "<div>\n",
              "<style scoped>\n",
              "    .dataframe tbody tr th:only-of-type {\n",
              "        vertical-align: middle;\n",
              "    }\n",
              "\n",
              "    .dataframe tbody tr th {\n",
              "        vertical-align: top;\n",
              "    }\n",
              "\n",
              "    .dataframe thead th {\n",
              "        text-align: right;\n",
              "    }\n",
              "</style>\n",
              "<table border=\"1\" class=\"dataframe\">\n",
              "  <thead>\n",
              "    <tr style=\"text-align: right;\">\n",
              "      <th></th>\n",
              "      <th>Sexo</th>\n",
              "      <th>Grupo</th>\n",
              "      <th>Escolaridade</th>\n",
              "      <th>Preparatório</th>\n",
              "      <th>Matemática</th>\n",
              "      <th>Linguagem</th>\n",
              "      <th>Redação</th>\n",
              "    </tr>\n",
              "  </thead>\n",
              "  <tbody>\n",
              "    <tr>\n",
              "      <th>0</th>\n",
              "      <td>feminino</td>\n",
              "      <td>grupo B</td>\n",
              "      <td>bacharel</td>\n",
              "      <td>não</td>\n",
              "      <td>72</td>\n",
              "      <td>72</td>\n",
              "      <td>74</td>\n",
              "    </tr>\n",
              "    <tr>\n",
              "      <th>1</th>\n",
              "      <td>feminino</td>\n",
              "      <td>grupo C</td>\n",
              "      <td>graduando</td>\n",
              "      <td>sim</td>\n",
              "      <td>69</td>\n",
              "      <td>90</td>\n",
              "      <td>88</td>\n",
              "    </tr>\n",
              "    <tr>\n",
              "      <th>2</th>\n",
              "      <td>feminino</td>\n",
              "      <td>grupo B</td>\n",
              "      <td>mestrado</td>\n",
              "      <td>não</td>\n",
              "      <td>90</td>\n",
              "      <td>95</td>\n",
              "      <td>93</td>\n",
              "    </tr>\n",
              "    <tr>\n",
              "      <th>3</th>\n",
              "      <td>masculino</td>\n",
              "      <td>grupo A</td>\n",
              "      <td>concursado</td>\n",
              "      <td>não</td>\n",
              "      <td>47</td>\n",
              "      <td>57</td>\n",
              "      <td>44</td>\n",
              "    </tr>\n",
              "    <tr>\n",
              "      <th>4</th>\n",
              "      <td>masculino</td>\n",
              "      <td>grupo C</td>\n",
              "      <td>graduando</td>\n",
              "      <td>não</td>\n",
              "      <td>76</td>\n",
              "      <td>78</td>\n",
              "      <td>75</td>\n",
              "    </tr>\n",
              "  </tbody>\n",
              "</table>\n",
              "</div>"
            ],
            "text/plain": [
              "        Sexo    Grupo Escolaridade  ... Matemática  Linguagem   Redação\n",
              "0   feminino  grupo B     bacharel  ...         72          72       74\n",
              "1   feminino  grupo C    graduando  ...         69          90       88\n",
              "2   feminino  grupo B     mestrado  ...         90          95       93\n",
              "3  masculino  grupo A   concursado  ...         47          57       44\n",
              "4  masculino  grupo C    graduando  ...         76          78       75\n",
              "\n",
              "[5 rows x 7 columns]"
            ]
          },
          "metadata": {
            "tags": []
          },
          "execution_count": 2
        }
      ]
    },
    {
      "cell_type": "code",
      "metadata": {
        "colab": {
          "base_uri": "https://localhost:8080/",
          "height": 406
        },
        "id": "89KjwuOHDGmP",
        "outputId": "c691c7b8-df18-4980-916a-79ec3c3d1836"
      },
      "source": [
        "# Criando uma coluna de nota final\n",
        "df['Nota final'] =(df['Matemática']+df['Redação']+df['Linguagem '])/3\n",
        "# Criando uma cópia do dataframe\n",
        "nota_curso = df[['Grupo','Preparatório','Matemática','Redação','Linguagem ','Nota final']][df['Preparatório']=='sim'].copy()\n",
        "nota_curso"
      ],
      "execution_count": null,
      "outputs": [
        {
          "output_type": "execute_result",
          "data": {
            "text/html": [
              "<div>\n",
              "<style scoped>\n",
              "    .dataframe tbody tr th:only-of-type {\n",
              "        vertical-align: middle;\n",
              "    }\n",
              "\n",
              "    .dataframe tbody tr th {\n",
              "        vertical-align: top;\n",
              "    }\n",
              "\n",
              "    .dataframe thead th {\n",
              "        text-align: right;\n",
              "    }\n",
              "</style>\n",
              "<table border=\"1\" class=\"dataframe\">\n",
              "  <thead>\n",
              "    <tr style=\"text-align: right;\">\n",
              "      <th></th>\n",
              "      <th>Grupo</th>\n",
              "      <th>Preparatório</th>\n",
              "      <th>Matemática</th>\n",
              "      <th>Redação</th>\n",
              "      <th>Linguagem</th>\n",
              "      <th>Nota final</th>\n",
              "    </tr>\n",
              "  </thead>\n",
              "  <tbody>\n",
              "    <tr>\n",
              "      <th>1</th>\n",
              "      <td>grupo C</td>\n",
              "      <td>sim</td>\n",
              "      <td>69</td>\n",
              "      <td>88</td>\n",
              "      <td>90</td>\n",
              "      <td>82.333333</td>\n",
              "    </tr>\n",
              "    <tr>\n",
              "      <th>6</th>\n",
              "      <td>grupo B</td>\n",
              "      <td>sim</td>\n",
              "      <td>88</td>\n",
              "      <td>92</td>\n",
              "      <td>95</td>\n",
              "      <td>91.666667</td>\n",
              "    </tr>\n",
              "    <tr>\n",
              "      <th>8</th>\n",
              "      <td>grupo D</td>\n",
              "      <td>sim</td>\n",
              "      <td>64</td>\n",
              "      <td>67</td>\n",
              "      <td>64</td>\n",
              "      <td>65.000000</td>\n",
              "    </tr>\n",
              "    <tr>\n",
              "      <th>13</th>\n",
              "      <td>grupo A</td>\n",
              "      <td>sim</td>\n",
              "      <td>78</td>\n",
              "      <td>70</td>\n",
              "      <td>72</td>\n",
              "      <td>73.333333</td>\n",
              "    </tr>\n",
              "    <tr>\n",
              "      <th>18</th>\n",
              "      <td>grupo C</td>\n",
              "      <td>sim</td>\n",
              "      <td>46</td>\n",
              "      <td>46</td>\n",
              "      <td>42</td>\n",
              "      <td>44.666667</td>\n",
              "    </tr>\n",
              "    <tr>\n",
              "      <th>...</th>\n",
              "      <td>...</td>\n",
              "      <td>...</td>\n",
              "      <td>...</td>\n",
              "      <td>...</td>\n",
              "      <td>...</td>\n",
              "      <td>...</td>\n",
              "    </tr>\n",
              "    <tr>\n",
              "      <th>990</th>\n",
              "      <td>grupo E</td>\n",
              "      <td>sim</td>\n",
              "      <td>86</td>\n",
              "      <td>75</td>\n",
              "      <td>81</td>\n",
              "      <td>80.666667</td>\n",
              "    </tr>\n",
              "    <tr>\n",
              "      <th>991</th>\n",
              "      <td>grupo B</td>\n",
              "      <td>sim</td>\n",
              "      <td>65</td>\n",
              "      <td>78</td>\n",
              "      <td>82</td>\n",
              "      <td>75.000000</td>\n",
              "    </tr>\n",
              "    <tr>\n",
              "      <th>995</th>\n",
              "      <td>grupo E</td>\n",
              "      <td>sim</td>\n",
              "      <td>88</td>\n",
              "      <td>95</td>\n",
              "      <td>99</td>\n",
              "      <td>94.000000</td>\n",
              "    </tr>\n",
              "    <tr>\n",
              "      <th>997</th>\n",
              "      <td>grupo C</td>\n",
              "      <td>sim</td>\n",
              "      <td>59</td>\n",
              "      <td>65</td>\n",
              "      <td>71</td>\n",
              "      <td>65.000000</td>\n",
              "    </tr>\n",
              "    <tr>\n",
              "      <th>998</th>\n",
              "      <td>grupo D</td>\n",
              "      <td>sim</td>\n",
              "      <td>68</td>\n",
              "      <td>77</td>\n",
              "      <td>78</td>\n",
              "      <td>74.333333</td>\n",
              "    </tr>\n",
              "  </tbody>\n",
              "</table>\n",
              "<p>358 rows × 6 columns</p>\n",
              "</div>"
            ],
            "text/plain": [
              "       Grupo Preparatório  Matemática  Redação  Linguagem   Nota final\n",
              "1    grupo C          sim          69       88          90   82.333333\n",
              "6    grupo B          sim          88       92          95   91.666667\n",
              "8    grupo D          sim          64       67          64   65.000000\n",
              "13   grupo A          sim          78       70          72   73.333333\n",
              "18   grupo C          sim          46       46          42   44.666667\n",
              "..       ...          ...         ...      ...         ...         ...\n",
              "990  grupo E          sim          86       75          81   80.666667\n",
              "991  grupo B          sim          65       78          82   75.000000\n",
              "995  grupo E          sim          88       95          99   94.000000\n",
              "997  grupo C          sim          59       65          71   65.000000\n",
              "998  grupo D          sim          68       77          78   74.333333\n",
              "\n",
              "[358 rows x 6 columns]"
            ]
          },
          "metadata": {
            "tags": []
          },
          "execution_count": 3
        }
      ]
    },
    {
      "cell_type": "markdown",
      "metadata": {
        "id": "v1PwDdv7DOOw"
      },
      "source": [
        "##Amostragem\n",
        "### Amostragem simples (pessoas que fizeram o curso)\n",
        "* n = 30\n",
        "* Escolhida de forma aleatória"
      ]
    },
    {
      "cell_type": "code",
      "metadata": {
        "id": "VzAqbttADPRA",
        "colab": {
          "base_uri": "https://localhost:8080/",
          "height": 197
        },
        "outputId": "6039e731-9c8f-4ed8-9562-8090b65f48b3"
      },
      "source": [
        "# Selecionando 30 valores \n",
        "np.random.seed(1000)\n",
        "nota_curso30 = nota_curso.sample(30)\n",
        "nota_curso30.head()"
      ],
      "execution_count": null,
      "outputs": [
        {
          "output_type": "execute_result",
          "data": {
            "text/html": [
              "<div>\n",
              "<style scoped>\n",
              "    .dataframe tbody tr th:only-of-type {\n",
              "        vertical-align: middle;\n",
              "    }\n",
              "\n",
              "    .dataframe tbody tr th {\n",
              "        vertical-align: top;\n",
              "    }\n",
              "\n",
              "    .dataframe thead th {\n",
              "        text-align: right;\n",
              "    }\n",
              "</style>\n",
              "<table border=\"1\" class=\"dataframe\">\n",
              "  <thead>\n",
              "    <tr style=\"text-align: right;\">\n",
              "      <th></th>\n",
              "      <th>Grupo</th>\n",
              "      <th>Preparatório</th>\n",
              "      <th>Matemática</th>\n",
              "      <th>Redação</th>\n",
              "      <th>Linguagem</th>\n",
              "      <th>Nota final</th>\n",
              "    </tr>\n",
              "  </thead>\n",
              "  <tbody>\n",
              "    <tr>\n",
              "      <th>180</th>\n",
              "      <td>grupo C</td>\n",
              "      <td>sim</td>\n",
              "      <td>62</td>\n",
              "      <td>75</td>\n",
              "      <td>68</td>\n",
              "      <td>68.333333</td>\n",
              "    </tr>\n",
              "    <tr>\n",
              "      <th>403</th>\n",
              "      <td>grupo D</td>\n",
              "      <td>sim</td>\n",
              "      <td>88</td>\n",
              "      <td>100</td>\n",
              "      <td>99</td>\n",
              "      <td>95.666667</td>\n",
              "    </tr>\n",
              "    <tr>\n",
              "      <th>998</th>\n",
              "      <td>grupo D</td>\n",
              "      <td>sim</td>\n",
              "      <td>68</td>\n",
              "      <td>77</td>\n",
              "      <td>78</td>\n",
              "      <td>74.333333</td>\n",
              "    </tr>\n",
              "    <tr>\n",
              "      <th>800</th>\n",
              "      <td>grupo C</td>\n",
              "      <td>sim</td>\n",
              "      <td>67</td>\n",
              "      <td>68</td>\n",
              "      <td>73</td>\n",
              "      <td>69.333333</td>\n",
              "    </tr>\n",
              "    <tr>\n",
              "      <th>207</th>\n",
              "      <td>grupo E</td>\n",
              "      <td>sim</td>\n",
              "      <td>81</td>\n",
              "      <td>76</td>\n",
              "      <td>80</td>\n",
              "      <td>79.000000</td>\n",
              "    </tr>\n",
              "  </tbody>\n",
              "</table>\n",
              "</div>"
            ],
            "text/plain": [
              "       Grupo Preparatório  Matemática  Redação  Linguagem   Nota final\n",
              "180  grupo C          sim          62       75          68   68.333333\n",
              "403  grupo D          sim          88      100          99   95.666667\n",
              "998  grupo D          sim          68       77          78   74.333333\n",
              "800  grupo C          sim          67       68          73   69.333333\n",
              "207  grupo E          sim          81       76          80   79.000000"
            ]
          },
          "metadata": {
            "tags": []
          },
          "execution_count": 4
        }
      ]
    },
    {
      "cell_type": "markdown",
      "metadata": {
        "id": "eShhB1P_DVeI"
      },
      "source": [
        "## Sumarização dos dados amostral \n",
        "* Matemática\n",
        "* Redação\n",
        "* Linguagem \n",
        "* Nota final "
      ]
    },
    {
      "cell_type": "code",
      "metadata": {
        "colab": {
          "base_uri": "https://localhost:8080/",
          "height": 287
        },
        "id": "mEestUZVDYdh",
        "outputId": "2f27ed40-4592-41bd-db37-c4a7b96bd4ef"
      },
      "source": [
        "# Estatística descritiva amostral \n",
        "nota_curso30.describe()"
      ],
      "execution_count": null,
      "outputs": [
        {
          "output_type": "execute_result",
          "data": {
            "text/html": [
              "<div>\n",
              "<style scoped>\n",
              "    .dataframe tbody tr th:only-of-type {\n",
              "        vertical-align: middle;\n",
              "    }\n",
              "\n",
              "    .dataframe tbody tr th {\n",
              "        vertical-align: top;\n",
              "    }\n",
              "\n",
              "    .dataframe thead th {\n",
              "        text-align: right;\n",
              "    }\n",
              "</style>\n",
              "<table border=\"1\" class=\"dataframe\">\n",
              "  <thead>\n",
              "    <tr style=\"text-align: right;\">\n",
              "      <th></th>\n",
              "      <th>Matemática</th>\n",
              "      <th>Redação</th>\n",
              "      <th>Linguagem</th>\n",
              "      <th>Nota final</th>\n",
              "    </tr>\n",
              "  </thead>\n",
              "  <tbody>\n",
              "    <tr>\n",
              "      <th>count</th>\n",
              "      <td>30.000000</td>\n",
              "      <td>30.000000</td>\n",
              "      <td>30.00000</td>\n",
              "      <td>30.000000</td>\n",
              "    </tr>\n",
              "    <tr>\n",
              "      <th>mean</th>\n",
              "      <td>71.966667</td>\n",
              "      <td>76.633333</td>\n",
              "      <td>77.30000</td>\n",
              "      <td>75.300000</td>\n",
              "    </tr>\n",
              "    <tr>\n",
              "      <th>std</th>\n",
              "      <td>14.983861</td>\n",
              "      <td>13.353247</td>\n",
              "      <td>14.30252</td>\n",
              "      <td>13.571254</td>\n",
              "    </tr>\n",
              "    <tr>\n",
              "      <th>min</th>\n",
              "      <td>42.000000</td>\n",
              "      <td>54.000000</td>\n",
              "      <td>55.00000</td>\n",
              "      <td>50.333333</td>\n",
              "    </tr>\n",
              "    <tr>\n",
              "      <th>25%</th>\n",
              "      <td>62.750000</td>\n",
              "      <td>66.500000</td>\n",
              "      <td>64.50000</td>\n",
              "      <td>66.500000</td>\n",
              "    </tr>\n",
              "    <tr>\n",
              "      <th>50%</th>\n",
              "      <td>74.000000</td>\n",
              "      <td>76.500000</td>\n",
              "      <td>78.50000</td>\n",
              "      <td>75.166667</td>\n",
              "    </tr>\n",
              "    <tr>\n",
              "      <th>75%</th>\n",
              "      <td>85.750000</td>\n",
              "      <td>85.750000</td>\n",
              "      <td>87.00000</td>\n",
              "      <td>85.250000</td>\n",
              "    </tr>\n",
              "    <tr>\n",
              "      <th>max</th>\n",
              "      <td>99.000000</td>\n",
              "      <td>100.000000</td>\n",
              "      <td>100.00000</td>\n",
              "      <td>99.666667</td>\n",
              "    </tr>\n",
              "  </tbody>\n",
              "</table>\n",
              "</div>"
            ],
            "text/plain": [
              "       Matemática     Redação  Linguagem   Nota final\n",
              "count   30.000000   30.000000    30.00000   30.000000\n",
              "mean    71.966667   76.633333    77.30000   75.300000\n",
              "std     14.983861   13.353247    14.30252   13.571254\n",
              "min     42.000000   54.000000    55.00000   50.333333\n",
              "25%     62.750000   66.500000    64.50000   66.500000\n",
              "50%     74.000000   76.500000    78.50000   75.166667\n",
              "75%     85.750000   85.750000    87.00000   85.250000\n",
              "max     99.000000  100.000000   100.00000   99.666667"
            ]
          },
          "metadata": {
            "tags": []
          },
          "execution_count": 5
        }
      ]
    },
    {
      "cell_type": "markdown",
      "metadata": {
        "id": "kSHDgWPwDfD2"
      },
      "source": [
        "## Teste t de Student para uma amostra simples\n",
        "\n",
        "###Objetivo:\n",
        "\n",
        "* Espera-se que na média as pessas tirem uma nota igual a 75%\n",
        "\n",
        "### Hipótese:\n",
        "\n",
        "* h0: média Y = 75\n",
        "* ha: média Y = 75\n",
        "\n",
        "### Pressuposições:\n",
        "\n",
        "* Normalidade dos dados \n",
        "* Amostras independentes"
      ]
    },
    {
      "cell_type": "code",
      "metadata": {
        "id": "XSBfnEK7Dfza"
      },
      "source": [
        "# importando a biblioteca Scipy para realizar o teste t\n",
        "from scipy import stats"
      ],
      "execution_count": null,
      "outputs": []
    },
    {
      "cell_type": "markdown",
      "metadata": {
        "id": "PPUCY8BADjGn"
      },
      "source": [
        "Testando a normalidade\n",
        "* H0 : Os dados são proveniente de uma distribuição normal (p_valor > 0.05)"
      ]
    },
    {
      "cell_type": "code",
      "metadata": {
        "colab": {
          "base_uri": "https://localhost:8080/"
        },
        "id": "9ZobCavwDlzZ",
        "outputId": "03e9a95a-13bd-46a3-d0c0-e81f7a4b62e7"
      },
      "source": [
        "#Testando a normalidade dos dados para uma amostra\n",
        "\n",
        "stats.normaltest(nota_curso30['Nota final'])"
      ],
      "execution_count": null,
      "outputs": [
        {
          "output_type": "execute_result",
          "data": {
            "text/plain": [
              "NormaltestResult(statistic=1.9669307090692743, pvalue=0.37401276372812287)"
            ]
          },
          "metadata": {
            "tags": []
          },
          "execution_count": 7
        }
      ]
    },
    {
      "cell_type": "markdown",
      "metadata": {
        "id": "VyqDY8ZKE-RD"
      },
      "source": [
        "Teste t de Student para uma amostra \n",
        "* H0: A média de Y = 75 (p_valor >0.05)"
      ]
    },
    {
      "cell_type": "code",
      "metadata": {
        "colab": {
          "base_uri": "https://localhost:8080/"
        },
        "id": "aRctmWT8DqZz",
        "outputId": "00911037-9213-464c-d62c-2688f27c90cd"
      },
      "source": [
        "#Teste t para uma amostra simples \n",
        "stats.ttest_1samp(nota_curso30['Nota final'],75)"
      ],
      "execution_count": null,
      "outputs": [
        {
          "output_type": "execute_result",
          "data": {
            "text/plain": [
              "Ttest_1sampResult(statistic=0.1210770727515019, pvalue=0.9044650278983001)"
            ]
          },
          "metadata": {
            "tags": []
          },
          "execution_count": 8
        }
      ]
    },
    {
      "cell_type": "markdown",
      "metadata": {
        "id": "m4hJ7HwfDvYL"
      },
      "source": [
        "Intervalo de Confiança (IC)"
      ]
    },
    {
      "cell_type": "code",
      "metadata": {
        "id": "01eC2S4aDsz0",
        "colab": {
          "base_uri": "https://localhost:8080/"
        },
        "outputId": "300949b4-d3b4-4cef-80b4-3249e23d2ade"
      },
      "source": [
        "# Intervalo de confiança \n",
        "LS = 75.3 + 2 * 13.57/(30)**0.5 # t-tabelado\n",
        "LI = 75.3 - 2 * 13.57/(30)**0.5\n",
        "print(LS)\n",
        "print(LI)"
      ],
      "execution_count": null,
      "outputs": [
        {
          "output_type": "stream",
          "text": [
            "80.2550634035634\n",
            "70.3449365964366\n"
          ],
          "name": "stdout"
        }
      ]
    },
    {
      "cell_type": "markdown",
      "metadata": {
        "id": "pxdfxUy_D2P_"
      },
      "source": [
        "Teste qui-quadrado para uma amostra independente\n",
        "* H0: O desvio-padrão Y = 5"
      ]
    },
    {
      "cell_type": "code",
      "metadata": {
        "colab": {
          "base_uri": "https://localhost:8080/"
        },
        "id": "6uuubwIMDyc_",
        "outputId": "6bbfa3fc-f676-4be8-c23c-47aaa332fc56"
      },
      "source": [
        "# Teste qui-quadradro\n",
        "statistic, p_valor = stats.chisquare(nota_curso30['Nota final'],5)\n",
        "p_valor <= 0.05 # pergunta se o p_valor é menor ou igual a 0.05 "
      ],
      "execution_count": null,
      "outputs": [
        {
          "output_type": "execute_result",
          "data": {
            "text/plain": [
              "True"
            ]
          },
          "metadata": {
            "tags": []
          },
          "execution_count": 10
        }
      ]
    },
    {
      "cell_type": "markdown",
      "metadata": {
        "id": "878uGuOID9KK"
      },
      "source": [
        "# Estatística inferencial para duas amostras independentes\n",
        "### Objetivo:\n",
        "\n",
        "\n",
        "1.   Avaliar se os dados amostrados são normalmente distribuidos; \n",
        "2.   Avaliar se a média da nota final das pessoas que fizeram o curso é igual ao das pessoas que não o fizeram;\n",
        "3.   Verificar se o desvio padrão das amostras são iguais\n",
        "\n",
        "Teste utilizados:\n",
        "* t de Studante para duas amostras independentes\n",
        "* Teste de Wilcoxon do posto sinalizado (teste não paramétrico)\n",
        "* qui- quadrado para duas amostras independentes\n",
        "* teste de normalidade ()"
      ]
    },
    {
      "cell_type": "markdown",
      "metadata": {
        "id": "YQkjsnjGEBF3"
      },
      "source": [
        "##Amostragem\n",
        "### Amostragem simples (pessoas que não fizeram o curso)\n",
        "* n = 30\n",
        "* Escolhida de forma aleatória\n",
        "\n",
        "obs: as pessoas que fizeram o curso já  foram sorteadas na primeira análise."
      ]
    },
    {
      "cell_type": "code",
      "metadata": {
        "id": "vxRPT-3pD-mB",
        "colab": {
          "base_uri": "https://localhost:8080/"
        },
        "outputId": "59594600-e1e9-4897-892d-c72cb3e77d45"
      },
      "source": [
        "# Criando um dataframe com 30 valores de pessoas que fizeram o curso com mais 30 valore de pessoas que não o fizeram\n",
        "nota_nãocurso = df[['Grupo','Preparatório','Matemática','Redação','Linguagem ','Nota final']][df['Preparatório']=='não'].copy()\n",
        "\n",
        "# Escolhendo randomicamente 30 valores do df_não\n",
        "np.random.seed(2000)\n",
        "nota_nãocurso30 = nota_nãocurso.sample(30)\n",
        "\n",
        "# Concatenando os dois data frame\n",
        "\n",
        "novo_df = pd.concat([nota_curso30, nota_nãocurso30])\n",
        "\n",
        "novo_df"
      ],
      "execution_count": null,
      "outputs": [
        {
          "output_type": "execute_result",
          "data": {
            "text/html": [
              "<div>\n",
              "<style scoped>\n",
              "    .dataframe tbody tr th:only-of-type {\n",
              "        vertical-align: middle;\n",
              "    }\n",
              "\n",
              "    .dataframe tbody tr th {\n",
              "        vertical-align: top;\n",
              "    }\n",
              "\n",
              "    .dataframe thead th {\n",
              "        text-align: right;\n",
              "    }\n",
              "</style>\n",
              "<table border=\"1\" class=\"dataframe\">\n",
              "  <thead>\n",
              "    <tr style=\"text-align: right;\">\n",
              "      <th></th>\n",
              "      <th>Grupo</th>\n",
              "      <th>Preparatório</th>\n",
              "      <th>Matemática</th>\n",
              "      <th>Redação</th>\n",
              "      <th>Linguagem</th>\n",
              "      <th>Nota final</th>\n",
              "    </tr>\n",
              "  </thead>\n",
              "  <tbody>\n",
              "    <tr>\n",
              "      <th>180</th>\n",
              "      <td>grupo C</td>\n",
              "      <td>sim</td>\n",
              "      <td>62</td>\n",
              "      <td>75</td>\n",
              "      <td>68</td>\n",
              "      <td>68.333333</td>\n",
              "    </tr>\n",
              "    <tr>\n",
              "      <th>403</th>\n",
              "      <td>grupo D</td>\n",
              "      <td>sim</td>\n",
              "      <td>88</td>\n",
              "      <td>100</td>\n",
              "      <td>99</td>\n",
              "      <td>95.666667</td>\n",
              "    </tr>\n",
              "    <tr>\n",
              "      <th>998</th>\n",
              "      <td>grupo D</td>\n",
              "      <td>sim</td>\n",
              "      <td>68</td>\n",
              "      <td>77</td>\n",
              "      <td>78</td>\n",
              "      <td>74.333333</td>\n",
              "    </tr>\n",
              "    <tr>\n",
              "      <th>800</th>\n",
              "      <td>grupo C</td>\n",
              "      <td>sim</td>\n",
              "      <td>67</td>\n",
              "      <td>68</td>\n",
              "      <td>73</td>\n",
              "      <td>69.333333</td>\n",
              "    </tr>\n",
              "    <tr>\n",
              "      <th>207</th>\n",
              "      <td>grupo E</td>\n",
              "      <td>sim</td>\n",
              "      <td>81</td>\n",
              "      <td>76</td>\n",
              "      <td>80</td>\n",
              "      <td>79.000000</td>\n",
              "    </tr>\n",
              "    <tr>\n",
              "      <th>995</th>\n",
              "      <td>grupo E</td>\n",
              "      <td>sim</td>\n",
              "      <td>88</td>\n",
              "      <td>95</td>\n",
              "      <td>99</td>\n",
              "      <td>94.000000</td>\n",
              "    </tr>\n",
              "    <tr>\n",
              "      <th>536</th>\n",
              "      <td>grupo C</td>\n",
              "      <td>sim</td>\n",
              "      <td>51</td>\n",
              "      <td>58</td>\n",
              "      <td>60</td>\n",
              "      <td>56.333333</td>\n",
              "    </tr>\n",
              "    <tr>\n",
              "      <th>142</th>\n",
              "      <td>grupo E</td>\n",
              "      <td>sim</td>\n",
              "      <td>42</td>\n",
              "      <td>54</td>\n",
              "      <td>55</td>\n",
              "      <td>50.333333</td>\n",
              "    </tr>\n",
              "    <tr>\n",
              "      <th>793</th>\n",
              "      <td>grupo E</td>\n",
              "      <td>sim</td>\n",
              "      <td>89</td>\n",
              "      <td>77</td>\n",
              "      <td>84</td>\n",
              "      <td>83.333333</td>\n",
              "    </tr>\n",
              "    <tr>\n",
              "      <th>925</th>\n",
              "      <td>grupo E</td>\n",
              "      <td>sim</td>\n",
              "      <td>74</td>\n",
              "      <td>60</td>\n",
              "      <td>64</td>\n",
              "      <td>66.000000</td>\n",
              "    </tr>\n",
              "    <tr>\n",
              "      <th>595</th>\n",
              "      <td>grupo C</td>\n",
              "      <td>sim</td>\n",
              "      <td>56</td>\n",
              "      <td>72</td>\n",
              "      <td>79</td>\n",
              "      <td>69.000000</td>\n",
              "    </tr>\n",
              "    <tr>\n",
              "      <th>312</th>\n",
              "      <td>grupo D</td>\n",
              "      <td>sim</td>\n",
              "      <td>67</td>\n",
              "      <td>68</td>\n",
              "      <td>61</td>\n",
              "      <td>65.333333</td>\n",
              "    </tr>\n",
              "    <tr>\n",
              "      <th>96</th>\n",
              "      <td>grupo B</td>\n",
              "      <td>sim</td>\n",
              "      <td>65</td>\n",
              "      <td>62</td>\n",
              "      <td>66</td>\n",
              "      <td>64.333333</td>\n",
              "    </tr>\n",
              "    <tr>\n",
              "      <th>114</th>\n",
              "      <td>grupo E</td>\n",
              "      <td>sim</td>\n",
              "      <td>99</td>\n",
              "      <td>100</td>\n",
              "      <td>100</td>\n",
              "      <td>99.666667</td>\n",
              "    </tr>\n",
              "    <tr>\n",
              "      <th>865</th>\n",
              "      <td>grupo D</td>\n",
              "      <td>sim</td>\n",
              "      <td>82</td>\n",
              "      <td>88</td>\n",
              "      <td>82</td>\n",
              "      <td>84.000000</td>\n",
              "    </tr>\n",
              "    <tr>\n",
              "      <th>365</th>\n",
              "      <td>grupo A</td>\n",
              "      <td>sim</td>\n",
              "      <td>49</td>\n",
              "      <td>60</td>\n",
              "      <td>58</td>\n",
              "      <td>55.666667</td>\n",
              "    </tr>\n",
              "    <tr>\n",
              "      <th>261</th>\n",
              "      <td>grupo C</td>\n",
              "      <td>sim</td>\n",
              "      <td>79</td>\n",
              "      <td>78</td>\n",
              "      <td>79</td>\n",
              "      <td>78.666667</td>\n",
              "    </tr>\n",
              "    <tr>\n",
              "      <th>161</th>\n",
              "      <td>grupo E</td>\n",
              "      <td>sim</td>\n",
              "      <td>75</td>\n",
              "      <td>85</td>\n",
              "      <td>88</td>\n",
              "      <td>82.666667</td>\n",
              "    </tr>\n",
              "    <tr>\n",
              "      <th>949</th>\n",
              "      <td>grupo E</td>\n",
              "      <td>sim</td>\n",
              "      <td>57</td>\n",
              "      <td>73</td>\n",
              "      <td>75</td>\n",
              "      <td>68.333333</td>\n",
              "    </tr>\n",
              "    <tr>\n",
              "      <th>749</th>\n",
              "      <td>grupo B</td>\n",
              "      <td>sim</td>\n",
              "      <td>87</td>\n",
              "      <td>86</td>\n",
              "      <td>84</td>\n",
              "      <td>85.666667</td>\n",
              "    </tr>\n",
              "    <tr>\n",
              "      <th>637</th>\n",
              "      <td>grupo D</td>\n",
              "      <td>sim</td>\n",
              "      <td>80</td>\n",
              "      <td>88</td>\n",
              "      <td>92</td>\n",
              "      <td>86.666667</td>\n",
              "    </tr>\n",
              "    <tr>\n",
              "      <th>673</th>\n",
              "      <td>grupo C</td>\n",
              "      <td>sim</td>\n",
              "      <td>65</td>\n",
              "      <td>84</td>\n",
              "      <td>84</td>\n",
              "      <td>77.666667</td>\n",
              "    </tr>\n",
              "    <tr>\n",
              "      <th>439</th>\n",
              "      <td>grupo D</td>\n",
              "      <td>sim</td>\n",
              "      <td>89</td>\n",
              "      <td>82</td>\n",
              "      <td>88</td>\n",
              "      <td>86.333333</td>\n",
              "    </tr>\n",
              "    <tr>\n",
              "      <th>594</th>\n",
              "      <td>grupo C</td>\n",
              "      <td>sim</td>\n",
              "      <td>92</td>\n",
              "      <td>99</td>\n",
              "      <td>100</td>\n",
              "      <td>97.000000</td>\n",
              "    </tr>\n",
              "    <tr>\n",
              "      <th>560</th>\n",
              "      <td>grupo D</td>\n",
              "      <td>sim</td>\n",
              "      <td>74</td>\n",
              "      <td>79</td>\n",
              "      <td>75</td>\n",
              "      <td>76.000000</td>\n",
              "    </tr>\n",
              "    <tr>\n",
              "      <th>758</th>\n",
              "      <td>grupo D</td>\n",
              "      <td>sim</td>\n",
              "      <td>52</td>\n",
              "      <td>65</td>\n",
              "      <td>59</td>\n",
              "      <td>58.666667</td>\n",
              "    </tr>\n",
              "    <tr>\n",
              "      <th>476</th>\n",
              "      <td>grupo E</td>\n",
              "      <td>sim</td>\n",
              "      <td>76</td>\n",
              "      <td>66</td>\n",
              "      <td>62</td>\n",
              "      <td>68.000000</td>\n",
              "    </tr>\n",
              "    <tr>\n",
              "      <th>665</th>\n",
              "      <td>grupo C</td>\n",
              "      <td>sim</td>\n",
              "      <td>50</td>\n",
              "      <td>60</td>\n",
              "      <td>60</td>\n",
              "      <td>56.666667</td>\n",
              "    </tr>\n",
              "    <tr>\n",
              "      <th>313</th>\n",
              "      <td>grupo C</td>\n",
              "      <td>sim</td>\n",
              "      <td>68</td>\n",
              "      <td>69</td>\n",
              "      <td>67</td>\n",
              "      <td>68.000000</td>\n",
              "    </tr>\n",
              "    <tr>\n",
              "      <th>381</th>\n",
              "      <td>grupo C</td>\n",
              "      <td>sim</td>\n",
              "      <td>87</td>\n",
              "      <td>95</td>\n",
              "      <td>100</td>\n",
              "      <td>94.000000</td>\n",
              "    </tr>\n",
              "    <tr>\n",
              "      <th>386</th>\n",
              "      <td>grupo E</td>\n",
              "      <td>não</td>\n",
              "      <td>64</td>\n",
              "      <td>70</td>\n",
              "      <td>73</td>\n",
              "      <td>69.000000</td>\n",
              "    </tr>\n",
              "    <tr>\n",
              "      <th>372</th>\n",
              "      <td>grupo D</td>\n",
              "      <td>não</td>\n",
              "      <td>74</td>\n",
              "      <td>72</td>\n",
              "      <td>74</td>\n",
              "      <td>73.333333</td>\n",
              "    </tr>\n",
              "    <tr>\n",
              "      <th>34</th>\n",
              "      <td>grupo E</td>\n",
              "      <td>não</td>\n",
              "      <td>97</td>\n",
              "      <td>82</td>\n",
              "      <td>87</td>\n",
              "      <td>88.666667</td>\n",
              "    </tr>\n",
              "    <tr>\n",
              "      <th>189</th>\n",
              "      <td>grupo C</td>\n",
              "      <td>não</td>\n",
              "      <td>77</td>\n",
              "      <td>87</td>\n",
              "      <td>88</td>\n",
              "      <td>84.000000</td>\n",
              "    </tr>\n",
              "    <tr>\n",
              "      <th>227</th>\n",
              "      <td>grupo D</td>\n",
              "      <td>não</td>\n",
              "      <td>57</td>\n",
              "      <td>54</td>\n",
              "      <td>50</td>\n",
              "      <td>53.666667</td>\n",
              "    </tr>\n",
              "    <tr>\n",
              "      <th>4</th>\n",
              "      <td>grupo C</td>\n",
              "      <td>não</td>\n",
              "      <td>76</td>\n",
              "      <td>75</td>\n",
              "      <td>78</td>\n",
              "      <td>76.333333</td>\n",
              "    </tr>\n",
              "    <tr>\n",
              "      <th>271</th>\n",
              "      <td>grupo C</td>\n",
              "      <td>não</td>\n",
              "      <td>58</td>\n",
              "      <td>42</td>\n",
              "      <td>49</td>\n",
              "      <td>49.666667</td>\n",
              "    </tr>\n",
              "    <tr>\n",
              "      <th>221</th>\n",
              "      <td>grupo B</td>\n",
              "      <td>não</td>\n",
              "      <td>87</td>\n",
              "      <td>73</td>\n",
              "      <td>85</td>\n",
              "      <td>81.666667</td>\n",
              "    </tr>\n",
              "    <tr>\n",
              "      <th>154</th>\n",
              "      <td>grupo D</td>\n",
              "      <td>não</td>\n",
              "      <td>62</td>\n",
              "      <td>61</td>\n",
              "      <td>67</td>\n",
              "      <td>63.333333</td>\n",
              "    </tr>\n",
              "    <tr>\n",
              "      <th>387</th>\n",
              "      <td>grupo C</td>\n",
              "      <td>não</td>\n",
              "      <td>57</td>\n",
              "      <td>67</td>\n",
              "      <td>78</td>\n",
              "      <td>67.333333</td>\n",
              "    </tr>\n",
              "    <tr>\n",
              "      <th>217</th>\n",
              "      <td>grupo C</td>\n",
              "      <td>não</td>\n",
              "      <td>34</td>\n",
              "      <td>39</td>\n",
              "      <td>42</td>\n",
              "      <td>38.333333</td>\n",
              "    </tr>\n",
              "    <tr>\n",
              "      <th>81</th>\n",
              "      <td>grupo B</td>\n",
              "      <td>não</td>\n",
              "      <td>49</td>\n",
              "      <td>45</td>\n",
              "      <td>45</td>\n",
              "      <td>46.333333</td>\n",
              "    </tr>\n",
              "    <tr>\n",
              "      <th>73</th>\n",
              "      <td>grupo C</td>\n",
              "      <td>não</td>\n",
              "      <td>61</td>\n",
              "      <td>56</td>\n",
              "      <td>57</td>\n",
              "      <td>58.000000</td>\n",
              "    </tr>\n",
              "    <tr>\n",
              "      <th>942</th>\n",
              "      <td>grupo C</td>\n",
              "      <td>não</td>\n",
              "      <td>81</td>\n",
              "      <td>64</td>\n",
              "      <td>66</td>\n",
              "      <td>70.333333</td>\n",
              "    </tr>\n",
              "    <tr>\n",
              "      <th>644</th>\n",
              "      <td>grupo B</td>\n",
              "      <td>não</td>\n",
              "      <td>70</td>\n",
              "      <td>60</td>\n",
              "      <td>65</td>\n",
              "      <td>65.000000</td>\n",
              "    </tr>\n",
              "    <tr>\n",
              "      <th>985</th>\n",
              "      <td>grupo A</td>\n",
              "      <td>não</td>\n",
              "      <td>57</td>\n",
              "      <td>54</td>\n",
              "      <td>51</td>\n",
              "      <td>54.000000</td>\n",
              "    </tr>\n",
              "    <tr>\n",
              "      <th>509</th>\n",
              "      <td>grupo C</td>\n",
              "      <td>não</td>\n",
              "      <td>86</td>\n",
              "      <td>87</td>\n",
              "      <td>92</td>\n",
              "      <td>88.333333</td>\n",
              "    </tr>\n",
              "    <tr>\n",
              "      <th>90</th>\n",
              "      <td>grupo C</td>\n",
              "      <td>não</td>\n",
              "      <td>65</td>\n",
              "      <td>74</td>\n",
              "      <td>72</td>\n",
              "      <td>70.333333</td>\n",
              "    </tr>\n",
              "    <tr>\n",
              "      <th>258</th>\n",
              "      <td>grupo B</td>\n",
              "      <td>não</td>\n",
              "      <td>70</td>\n",
              "      <td>78</td>\n",
              "      <td>75</td>\n",
              "      <td>74.333333</td>\n",
              "    </tr>\n",
              "    <tr>\n",
              "      <th>483</th>\n",
              "      <td>grupo A</td>\n",
              "      <td>não</td>\n",
              "      <td>59</td>\n",
              "      <td>46</td>\n",
              "      <td>52</td>\n",
              "      <td>52.333333</td>\n",
              "    </tr>\n",
              "    <tr>\n",
              "      <th>805</th>\n",
              "      <td>grupo A</td>\n",
              "      <td>não</td>\n",
              "      <td>75</td>\n",
              "      <td>74</td>\n",
              "      <td>81</td>\n",
              "      <td>76.666667</td>\n",
              "    </tr>\n",
              "    <tr>\n",
              "      <th>906</th>\n",
              "      <td>grupo B</td>\n",
              "      <td>não</td>\n",
              "      <td>57</td>\n",
              "      <td>51</td>\n",
              "      <td>48</td>\n",
              "      <td>52.000000</td>\n",
              "    </tr>\n",
              "    <tr>\n",
              "      <th>760</th>\n",
              "      <td>grupo C</td>\n",
              "      <td>não</td>\n",
              "      <td>53</td>\n",
              "      <td>64</td>\n",
              "      <td>72</td>\n",
              "      <td>63.000000</td>\n",
              "    </tr>\n",
              "    <tr>\n",
              "      <th>425</th>\n",
              "      <td>grupo C</td>\n",
              "      <td>não</td>\n",
              "      <td>62</td>\n",
              "      <td>62</td>\n",
              "      <td>67</td>\n",
              "      <td>63.666667</td>\n",
              "    </tr>\n",
              "    <tr>\n",
              "      <th>688</th>\n",
              "      <td>grupo A</td>\n",
              "      <td>não</td>\n",
              "      <td>53</td>\n",
              "      <td>44</td>\n",
              "      <td>58</td>\n",
              "      <td>51.666667</td>\n",
              "    </tr>\n",
              "    <tr>\n",
              "      <th>442</th>\n",
              "      <td>grupo A</td>\n",
              "      <td>não</td>\n",
              "      <td>59</td>\n",
              "      <td>69</td>\n",
              "      <td>73</td>\n",
              "      <td>67.000000</td>\n",
              "    </tr>\n",
              "    <tr>\n",
              "      <th>159</th>\n",
              "      <td>grupo D</td>\n",
              "      <td>não</td>\n",
              "      <td>66</td>\n",
              "      <td>64</td>\n",
              "      <td>62</td>\n",
              "      <td>64.000000</td>\n",
              "    </tr>\n",
              "    <tr>\n",
              "      <th>818</th>\n",
              "      <td>grupo B</td>\n",
              "      <td>não</td>\n",
              "      <td>60</td>\n",
              "      <td>68</td>\n",
              "      <td>72</td>\n",
              "      <td>66.666667</td>\n",
              "    </tr>\n",
              "    <tr>\n",
              "      <th>16</th>\n",
              "      <td>grupo C</td>\n",
              "      <td>não</td>\n",
              "      <td>88</td>\n",
              "      <td>86</td>\n",
              "      <td>89</td>\n",
              "      <td>87.666667</td>\n",
              "    </tr>\n",
              "    <tr>\n",
              "      <th>415</th>\n",
              "      <td>grupo E</td>\n",
              "      <td>não</td>\n",
              "      <td>84</td>\n",
              "      <td>69</td>\n",
              "      <td>73</td>\n",
              "      <td>75.333333</td>\n",
              "    </tr>\n",
              "  </tbody>\n",
              "</table>\n",
              "</div>"
            ],
            "text/plain": [
              "       Grupo Preparatório  Matemática  Redação  Linguagem   Nota final\n",
              "180  grupo C          sim          62       75          68   68.333333\n",
              "403  grupo D          sim          88      100          99   95.666667\n",
              "998  grupo D          sim          68       77          78   74.333333\n",
              "800  grupo C          sim          67       68          73   69.333333\n",
              "207  grupo E          sim          81       76          80   79.000000\n",
              "995  grupo E          sim          88       95          99   94.000000\n",
              "536  grupo C          sim          51       58          60   56.333333\n",
              "142  grupo E          sim          42       54          55   50.333333\n",
              "793  grupo E          sim          89       77          84   83.333333\n",
              "925  grupo E          sim          74       60          64   66.000000\n",
              "595  grupo C          sim          56       72          79   69.000000\n",
              "312  grupo D          sim          67       68          61   65.333333\n",
              "96   grupo B          sim          65       62          66   64.333333\n",
              "114  grupo E          sim          99      100         100   99.666667\n",
              "865  grupo D          sim          82       88          82   84.000000\n",
              "365  grupo A          sim          49       60          58   55.666667\n",
              "261  grupo C          sim          79       78          79   78.666667\n",
              "161  grupo E          sim          75       85          88   82.666667\n",
              "949  grupo E          sim          57       73          75   68.333333\n",
              "749  grupo B          sim          87       86          84   85.666667\n",
              "637  grupo D          sim          80       88          92   86.666667\n",
              "673  grupo C          sim          65       84          84   77.666667\n",
              "439  grupo D          sim          89       82          88   86.333333\n",
              "594  grupo C          sim          92       99         100   97.000000\n",
              "560  grupo D          sim          74       79          75   76.000000\n",
              "758  grupo D          sim          52       65          59   58.666667\n",
              "476  grupo E          sim          76       66          62   68.000000\n",
              "665  grupo C          sim          50       60          60   56.666667\n",
              "313  grupo C          sim          68       69          67   68.000000\n",
              "381  grupo C          sim          87       95         100   94.000000\n",
              "386  grupo E          não          64       70          73   69.000000\n",
              "372  grupo D          não          74       72          74   73.333333\n",
              "34   grupo E          não          97       82          87   88.666667\n",
              "189  grupo C          não          77       87          88   84.000000\n",
              "227  grupo D          não          57       54          50   53.666667\n",
              "4    grupo C          não          76       75          78   76.333333\n",
              "271  grupo C          não          58       42          49   49.666667\n",
              "221  grupo B          não          87       73          85   81.666667\n",
              "154  grupo D          não          62       61          67   63.333333\n",
              "387  grupo C          não          57       67          78   67.333333\n",
              "217  grupo C          não          34       39          42   38.333333\n",
              "81   grupo B          não          49       45          45   46.333333\n",
              "73   grupo C          não          61       56          57   58.000000\n",
              "942  grupo C          não          81       64          66   70.333333\n",
              "644  grupo B          não          70       60          65   65.000000\n",
              "985  grupo A          não          57       54          51   54.000000\n",
              "509  grupo C          não          86       87          92   88.333333\n",
              "90   grupo C          não          65       74          72   70.333333\n",
              "258  grupo B          não          70       78          75   74.333333\n",
              "483  grupo A          não          59       46          52   52.333333\n",
              "805  grupo A          não          75       74          81   76.666667\n",
              "906  grupo B          não          57       51          48   52.000000\n",
              "760  grupo C          não          53       64          72   63.000000\n",
              "425  grupo C          não          62       62          67   63.666667\n",
              "688  grupo A          não          53       44          58   51.666667\n",
              "442  grupo A          não          59       69          73   67.000000\n",
              "159  grupo D          não          66       64          62   64.000000\n",
              "818  grupo B          não          60       68          72   66.666667\n",
              "16   grupo C          não          88       86          89   87.666667\n",
              "415  grupo E          não          84       69          73   75.333333"
            ]
          },
          "metadata": {
            "tags": []
          },
          "execution_count": 11
        }
      ]
    },
    {
      "cell_type": "markdown",
      "metadata": {
        "id": "2ZG_MC_PEHWD"
      },
      "source": [
        "## Sumarização dos dados  para as duas amostras \n",
        "* Nota final\n",
        "\n"
      ]
    },
    {
      "cell_type": "code",
      "metadata": {
        "id": "GmZjEOd5EFE-",
        "colab": {
          "base_uri": "https://localhost:8080/"
        },
        "outputId": "e512a22c-bd97-4f30-8560-0e2d55721fa9"
      },
      "source": [
        "novo_df.groupby('Preparatório')['Nota final'].describe()"
      ],
      "execution_count": null,
      "outputs": [
        {
          "output_type": "execute_result",
          "data": {
            "text/html": [
              "<div>\n",
              "<style scoped>\n",
              "    .dataframe tbody tr th:only-of-type {\n",
              "        vertical-align: middle;\n",
              "    }\n",
              "\n",
              "    .dataframe tbody tr th {\n",
              "        vertical-align: top;\n",
              "    }\n",
              "\n",
              "    .dataframe thead th {\n",
              "        text-align: right;\n",
              "    }\n",
              "</style>\n",
              "<table border=\"1\" class=\"dataframe\">\n",
              "  <thead>\n",
              "    <tr style=\"text-align: right;\">\n",
              "      <th></th>\n",
              "      <th>count</th>\n",
              "      <th>mean</th>\n",
              "      <th>std</th>\n",
              "      <th>min</th>\n",
              "      <th>25%</th>\n",
              "      <th>50%</th>\n",
              "      <th>75%</th>\n",
              "      <th>max</th>\n",
              "    </tr>\n",
              "    <tr>\n",
              "      <th>Preparatório</th>\n",
              "      <th></th>\n",
              "      <th></th>\n",
              "      <th></th>\n",
              "      <th></th>\n",
              "      <th></th>\n",
              "      <th></th>\n",
              "      <th></th>\n",
              "      <th></th>\n",
              "    </tr>\n",
              "  </thead>\n",
              "  <tbody>\n",
              "    <tr>\n",
              "      <th>não</th>\n",
              "      <td>30.0</td>\n",
              "      <td>66.4</td>\n",
              "      <td>13.026763</td>\n",
              "      <td>38.333333</td>\n",
              "      <td>55.0</td>\n",
              "      <td>66.833333</td>\n",
              "      <td>75.083333</td>\n",
              "      <td>88.666667</td>\n",
              "    </tr>\n",
              "    <tr>\n",
              "      <th>sim</th>\n",
              "      <td>30.0</td>\n",
              "      <td>75.3</td>\n",
              "      <td>13.571254</td>\n",
              "      <td>50.333333</td>\n",
              "      <td>66.5</td>\n",
              "      <td>75.166667</td>\n",
              "      <td>85.250000</td>\n",
              "      <td>99.666667</td>\n",
              "    </tr>\n",
              "  </tbody>\n",
              "</table>\n",
              "</div>"
            ],
            "text/plain": [
              "              count  mean        std  ...        50%        75%        max\n",
              "Preparatório                          ...                                 \n",
              "não            30.0  66.4  13.026763  ...  66.833333  75.083333  88.666667\n",
              "sim            30.0  75.3  13.571254  ...  75.166667  85.250000  99.666667\n",
              "\n",
              "[2 rows x 8 columns]"
            ]
          },
          "metadata": {
            "tags": []
          },
          "execution_count": 12
        }
      ]
    },
    {
      "cell_type": "code",
      "metadata": {
        "id": "BrCcP2wjDcn0",
        "colab": {
          "base_uri": "https://localhost:8080/"
        },
        "outputId": "56d36c13-d1f4-4ed8-e85b-f5050b586804"
      },
      "source": [
        "# Variância das amostras\n",
        "var_nãocurso, var_curso = novo_df.groupby('Preparatório')['Nota final'].var()\n",
        "print(var_nãocurso, var_curso)"
      ],
      "execution_count": null,
      "outputs": [
        {
          "output_type": "stream",
          "text": [
            "169.69655172413803 184.1789272030652\n"
          ],
          "name": "stdout"
        }
      ]
    },
    {
      "cell_type": "markdown",
      "metadata": {
        "id": "-0MwqCWXER6G"
      },
      "source": [
        "## Teste t de Student para duas amostras simples\n",
        "\n",
        "###Objetivo:\n",
        "\n",
        "* Espera-se que a média das notas das pessoas que fizeram o curso seja diferente (maior) em relação as pessoas que não o fizeram \n",
        "\n",
        "### Hipótese:\n",
        "\n",
        "* h0: média Y1 = média Y2\n",
        "* ha: média Y1 != média Y2\n",
        "\n",
        "### Pressuposições:\n",
        "\n",
        "* Normalidade dos dados \n",
        "* Amostras independentes"
      ]
    },
    {
      "cell_type": "code",
      "metadata": {
        "id": "xsxxoVdREPsK",
        "colab": {
          "base_uri": "https://localhost:8080/"
        },
        "outputId": "485bf222-56cd-4186-c6d1-250e0c992b98"
      },
      "source": [
        "# Testando normalidade \n",
        "stats.normaltest(nota_nãocurso30['Nota final'])"
      ],
      "execution_count": null,
      "outputs": [
        {
          "output_type": "execute_result",
          "data": {
            "text/plain": [
              "NormaltestResult(statistic=0.36998383511185734, pvalue=0.8311110012331637)"
            ]
          },
          "metadata": {
            "tags": []
          },
          "execution_count": 14
        }
      ]
    },
    {
      "cell_type": "code",
      "metadata": {
        "id": "gnpGF5HWEVQ2",
        "colab": {
          "base_uri": "https://localhost:8080/"
        },
        "outputId": "362ded36-88be-4b98-ee4f-885a2a080464"
      },
      "source": [
        "# Teste t para duas amostras independentes\n",
        "stats.ttest_ind(nota_curso30['Nota final'], nota_nãocurso30['Nota final'])"
      ],
      "execution_count": null,
      "outputs": [
        {
          "output_type": "execute_result",
          "data": {
            "text/plain": [
              "Ttest_indResult(statistic=2.591345967155534, pvalue=0.012074281682313334)"
            ]
          },
          "metadata": {
            "tags": []
          },
          "execution_count": 15
        }
      ]
    },
    {
      "cell_type": "code",
      "metadata": {
        "id": "GUNdB5paEVdV",
        "colab": {
          "base_uri": "https://localhost:8080/"
        },
        "outputId": "ecca269a-e804-400d-d2c4-dacc4f7c2cf6"
      },
      "source": [
        "# Teste de Wilcoxon do posto sinalizado # \n",
        "stats.wilcoxon(nota_curso30['Nota final'], nota_nãocurso30['Nota final'])"
      ],
      "execution_count": null,
      "outputs": [
        {
          "output_type": "execute_result",
          "data": {
            "text/plain": [
              "WilcoxonResult(statistic=110.0, pvalue=0.011745883156567731)"
            ]
          },
          "metadata": {
            "tags": []
          },
          "execution_count": 16
        }
      ]
    },
    {
      "cell_type": "code",
      "metadata": {
        "id": "DGAehUToEYtj",
        "colab": {
          "base_uri": "https://localhost:8080/"
        },
        "outputId": "fa28b24b-bf28-412f-a6e4-7b606c8f4827"
      },
      "source": [
        "# Teste qui-quadradro # tirar e colocar o teste f \n",
        "stats.chisquare(nota_curso30['Nota final'], nota_nãocurso30['Nota final'])"
      ],
      "execution_count": null,
      "outputs": [
        {
          "output_type": "execute_result",
          "data": {
            "text/plain": [
              "Power_divergenceResult(statistic=186.13483147538477, pvalue=7.308007072880365e-25)"
            ]
          },
          "metadata": {
            "tags": []
          },
          "execution_count": 17
        }
      ]
    },
    {
      "cell_type": "code",
      "metadata": {
        "id": "8vJee1oDBpKc",
        "colab": {
          "base_uri": "https://localhost:8080/"
        },
        "outputId": "bb663f2a-5816-437a-d8c5-5f05d8587932"
      },
      "source": [
        "# Teste f para amostras independentes \n",
        "F = var_curso/var_nãocurso\n",
        "alpha = 0.05\n",
        "df1 = len(nota_curso30) - 1\n",
        "df2 = len(nota_curso30) - 1\n",
        "p_valor = stats.f.cdf(F, df1,df2)\n",
        "if p_valor > alpha:\n",
        "  print('Variância homogênia')\n",
        "else:\n",
        "  print('Variância não homogênia')"
      ],
      "execution_count": null,
      "outputs": [
        {
          "output_type": "stream",
          "text": [
            "Variância homogênia\n"
          ],
          "name": "stdout"
        }
      ]
    },
    {
      "cell_type": "markdown",
      "metadata": {
        "id": "gSCC5niPEadg"
      },
      "source": [
        "# Anova \n",
        "###Objetivo:\n",
        "\n",
        "* a \n",
        "\n",
        "### Hipótese:\n",
        "\n",
        "* a\n",
        "\n",
        "### Pressuposições:\n",
        "\n",
        "* a"
      ]
    },
    {
      "cell_type": "code",
      "metadata": {
        "id": "aDWAUQn1Ec1Z"
      },
      "source": [
        "# Amostragem estratificada \n",
        "from sklearn.model_selection import train_test_split"
      ],
      "execution_count": null,
      "outputs": []
    },
    {
      "cell_type": "code",
      "metadata": {
        "id": "eFrOb08hEgwT",
        "colab": {
          "base_uri": "https://localhost:8080/"
        },
        "outputId": "49c38212-e1ed-4aec-ee69-570509365e54"
      },
      "source": [
        "# Seleção de 30 elementos de cada grupo\n",
        "np.random.seed(1000)\n",
        "x_train, x_test, y_train, y_test = train_test_split(nota_curso, nota_curso['Grupo'], stratify = nota_curso['Grupo'],test_size = 0.20)\n",
        "\n",
        "print(y_test.value_counts())"
      ],
      "execution_count": null,
      "outputs": [
        {
          "output_type": "stream",
          "text": [
            "grupo C    24\n",
            "grupo D    16\n",
            "grupo B    14\n",
            "grupo E    12\n",
            "grupo A     6\n",
            "Name: Grupo, dtype: int64\n"
          ],
          "name": "stdout"
        }
      ]
    },
    {
      "cell_type": "code",
      "metadata": {
        "id": "LRA72_RiEhgQ",
        "colab": {
          "base_uri": "https://localhost:8080/",
          "height": 406
        },
        "outputId": "eafb1a4a-1963-4514-8a29-b0dbeff80f6d"
      },
      "source": [
        "x_test[['Grupo','Nota final']]\n",
        "df_melt = pd.melt(x_train.reset_index(), id_vars=['Grupo'],  value_vars=['Nota final'])\n",
        "df_melt"
      ],
      "execution_count": null,
      "outputs": [
        {
          "output_type": "execute_result",
          "data": {
            "text/html": [
              "<div>\n",
              "<style scoped>\n",
              "    .dataframe tbody tr th:only-of-type {\n",
              "        vertical-align: middle;\n",
              "    }\n",
              "\n",
              "    .dataframe tbody tr th {\n",
              "        vertical-align: top;\n",
              "    }\n",
              "\n",
              "    .dataframe thead th {\n",
              "        text-align: right;\n",
              "    }\n",
              "</style>\n",
              "<table border=\"1\" class=\"dataframe\">\n",
              "  <thead>\n",
              "    <tr style=\"text-align: right;\">\n",
              "      <th></th>\n",
              "      <th>Grupo</th>\n",
              "      <th>variable</th>\n",
              "      <th>value</th>\n",
              "    </tr>\n",
              "  </thead>\n",
              "  <tbody>\n",
              "    <tr>\n",
              "      <th>0</th>\n",
              "      <td>grupo C</td>\n",
              "      <td>Nota final</td>\n",
              "      <td>83.000000</td>\n",
              "    </tr>\n",
              "    <tr>\n",
              "      <th>1</th>\n",
              "      <td>grupo D</td>\n",
              "      <td>Nota final</td>\n",
              "      <td>88.000000</td>\n",
              "    </tr>\n",
              "    <tr>\n",
              "      <th>2</th>\n",
              "      <td>grupo C</td>\n",
              "      <td>Nota final</td>\n",
              "      <td>68.666667</td>\n",
              "    </tr>\n",
              "    <tr>\n",
              "      <th>3</th>\n",
              "      <td>grupo B</td>\n",
              "      <td>Nota final</td>\n",
              "      <td>60.666667</td>\n",
              "    </tr>\n",
              "    <tr>\n",
              "      <th>4</th>\n",
              "      <td>grupo C</td>\n",
              "      <td>Nota final</td>\n",
              "      <td>72.666667</td>\n",
              "    </tr>\n",
              "    <tr>\n",
              "      <th>...</th>\n",
              "      <td>...</td>\n",
              "      <td>...</td>\n",
              "      <td>...</td>\n",
              "    </tr>\n",
              "    <tr>\n",
              "      <th>281</th>\n",
              "      <td>grupo D</td>\n",
              "      <td>Nota final</td>\n",
              "      <td>50.000000</td>\n",
              "    </tr>\n",
              "    <tr>\n",
              "      <th>282</th>\n",
              "      <td>grupo C</td>\n",
              "      <td>Nota final</td>\n",
              "      <td>60.000000</td>\n",
              "    </tr>\n",
              "    <tr>\n",
              "      <th>283</th>\n",
              "      <td>grupo C</td>\n",
              "      <td>Nota final</td>\n",
              "      <td>75.666667</td>\n",
              "    </tr>\n",
              "    <tr>\n",
              "      <th>284</th>\n",
              "      <td>grupo D</td>\n",
              "      <td>Nota final</td>\n",
              "      <td>75.000000</td>\n",
              "    </tr>\n",
              "    <tr>\n",
              "      <th>285</th>\n",
              "      <td>grupo A</td>\n",
              "      <td>Nota final</td>\n",
              "      <td>89.000000</td>\n",
              "    </tr>\n",
              "  </tbody>\n",
              "</table>\n",
              "<p>286 rows × 3 columns</p>\n",
              "</div>"
            ],
            "text/plain": [
              "       Grupo    variable      value\n",
              "0    grupo C  Nota final  83.000000\n",
              "1    grupo D  Nota final  88.000000\n",
              "2    grupo C  Nota final  68.666667\n",
              "3    grupo B  Nota final  60.666667\n",
              "4    grupo C  Nota final  72.666667\n",
              "..       ...         ...        ...\n",
              "281  grupo D  Nota final  50.000000\n",
              "282  grupo C  Nota final  60.000000\n",
              "283  grupo C  Nota final  75.666667\n",
              "284  grupo D  Nota final  75.000000\n",
              "285  grupo A  Nota final  89.000000\n",
              "\n",
              "[286 rows x 3 columns]"
            ]
          },
          "metadata": {
            "tags": []
          },
          "execution_count": 21
        }
      ]
    },
    {
      "cell_type": "code",
      "metadata": {
        "id": "3VFcNrdaEjkA",
        "colab": {
          "base_uri": "https://localhost:8080/",
          "height": 281
        },
        "outputId": "38bccda7-aa01-4c42-e7c5-d02cb099e7c0"
      },
      "source": [
        "import matplotlib.pyplot as plt\n",
        "import seaborn as sns\n",
        "ax = sns.boxplot(x='Grupo', y='Nota final', data=x_test, color='#99c2a2')\n",
        "ax = sns.swarmplot(x='Grupo', y='Nota final', data=x_test, color='#7d0013')"
      ],
      "execution_count": null,
      "outputs": [
        {
          "output_type": "display_data",
          "data": {
            "image/png": "[encoded data removed]",
            "text/plain": [
              "<Figure size 432x288 with 1 Axes>"
            ]
          },
          "metadata": {
            "tags": [],
            "needs_background": "light"
          }
        }
      ]
    },
    {
      "cell_type": "code",
      "metadata": {
        "id": "byVqn0OMEluG",
        "colab": {
          "base_uri": "https://localhost:8080/",
          "height": 163
        },
        "outputId": "e0cde1c7-266d-40a5-ad8b-dcc09c90b835"
      },
      "source": [
        "import statsmodels.api as sm\n",
        "from statsmodels.formula.api import ols\n",
        "\n",
        "\n",
        "# Ordinary Least Squares (OLS) model\n",
        "model = ols('value ~ C(Grupo)', data=df_melt).fit()\n",
        "anova_table = sm.stats.anova_lm(model, typ=2)\n",
        "anova_table"
      ],
      "execution_count": null,
      "outputs": [
        {
          "output_type": "stream",
          "text": [
            "/usr/local/lib/python3.7/dist-packages/statsmodels/tools/_testing.py:19: FutureWarning: pandas.util.testing is deprecated. Use the functions in the public API at pandas.testing instead.\n",
            "  import pandas.util.testing as tm\n"
          ],
          "name": "stderr"
        },
        {
          "output_type": "execute_result",
          "data": {
            "text/html": [
              "<div>\n",
              "<style scoped>\n",
              "    .dataframe tbody tr th:only-of-type {\n",
              "        vertical-align: middle;\n",
              "    }\n",
              "\n",
              "    .dataframe tbody tr th {\n",
              "        vertical-align: top;\n",
              "    }\n",
              "\n",
              "    .dataframe thead th {\n",
              "        text-align: right;\n",
              "    }\n",
              "</style>\n",
              "<table border=\"1\" class=\"dataframe\">\n",
              "  <thead>\n",
              "    <tr style=\"text-align: right;\">\n",
              "      <th></th>\n",
              "      <th>sum_sq</th>\n",
              "      <th>df</th>\n",
              "      <th>F</th>\n",
              "      <th>PR(&gt;F)</th>\n",
              "    </tr>\n",
              "  </thead>\n",
              "  <tbody>\n",
              "    <tr>\n",
              "      <th>C(Grupo)</th>\n",
              "      <td>1185.475758</td>\n",
              "      <td>4.0</td>\n",
              "      <td>1.795292</td>\n",
              "      <td>0.12988</td>\n",
              "    </tr>\n",
              "    <tr>\n",
              "      <th>Residual</th>\n",
              "      <td>46387.818725</td>\n",
              "      <td>281.0</td>\n",
              "      <td>NaN</td>\n",
              "      <td>NaN</td>\n",
              "    </tr>\n",
              "  </tbody>\n",
              "</table>\n",
              "</div>"
            ],
            "text/plain": [
              "                sum_sq     df         F   PR(>F)\n",
              "C(Grupo)   1185.475758    4.0  1.795292  0.12988\n",
              "Residual  46387.818725  281.0       NaN      NaN"
            ]
          },
          "metadata": {
            "tags": []
          },
          "execution_count": 23
        }
      ]
    },
    {
      "cell_type": "code",
      "metadata": {
        "id": "ZRoLAKbhEoQq"
      },
      "source": [
        "!pip install bioinfokit\n"
      ],
      "execution_count": null,
      "outputs": []
    },
    {
      "cell_type": "code",
      "metadata": {
        "id": "COGRjFmzErEF",
        "colab": {
          "base_uri": "https://localhost:8080/",
          "height": 107
        },
        "outputId": "d3174873-2ac9-402a-dd64-af0f6122a0ad"
      },
      "source": [
        "from bioinfokit.analys import stat\n",
        "res = stat()\n",
        "res.anova_stat(df=df_melt, res_var='value', anova_model='value ~ C(Grupo)')\n",
        "res.anova_summary"
      ],
      "execution_count": null,
      "outputs": [
        {
          "output_type": "execute_result",
          "data": {
            "text/html": [
              "<div>\n",
              "<style scoped>\n",
              "    .dataframe tbody tr th:only-of-type {\n",
              "        vertical-align: middle;\n",
              "    }\n",
              "\n",
              "    .dataframe tbody tr th {\n",
              "        vertical-align: top;\n",
              "    }\n",
              "\n",
              "    .dataframe thead th {\n",
              "        text-align: right;\n",
              "    }\n",
              "</style>\n",
              "<table border=\"1\" class=\"dataframe\">\n",
              "  <thead>\n",
              "    <tr style=\"text-align: right;\">\n",
              "      <th></th>\n",
              "      <th>df</th>\n",
              "      <th>sum_sq</th>\n",
              "      <th>mean_sq</th>\n",
              "      <th>F</th>\n",
              "      <th>PR(&gt;F)</th>\n",
              "    </tr>\n",
              "  </thead>\n",
              "  <tbody>\n",
              "    <tr>\n",
              "      <th>C(Grupo)</th>\n",
              "      <td>4.0</td>\n",
              "      <td>1185.475758</td>\n",
              "      <td>296.368940</td>\n",
              "      <td>1.795292</td>\n",
              "      <td>0.12988</td>\n",
              "    </tr>\n",
              "    <tr>\n",
              "      <th>Residual</th>\n",
              "      <td>281.0</td>\n",
              "      <td>46387.818725</td>\n",
              "      <td>165.081205</td>\n",
              "      <td>NaN</td>\n",
              "      <td>NaN</td>\n",
              "    </tr>\n",
              "  </tbody>\n",
              "</table>\n",
              "</div>"
            ],
            "text/plain": [
              "             df        sum_sq     mean_sq         F   PR(>F)\n",
              "C(Grupo)    4.0   1185.475758  296.368940  1.795292  0.12988\n",
              "Residual  281.0  46387.818725  165.081205       NaN      NaN"
            ]
          },
          "metadata": {
            "tags": []
          },
          "execution_count": 25
        }
      ]
    },
    {
      "cell_type": "code",
      "metadata": {
        "id": "7byCMjTbItSh",
        "colab": {
          "base_uri": "https://localhost:8080/",
          "height": 541
        },
        "outputId": "c37872fd-d682-4197-8e32-e198b8aa737b"
      },
      "source": [
        "# QQ-plot\n",
        "import statsmodels.api as sm\n",
        "import matplotlib.pyplot as plt\n",
        "# res.anova_std_residuals are standardized residuals obtained from ANOVA (check above)\n",
        "sm.qqplot(res.anova_std_residuals, line='45')\n",
        "plt.xlabel(\"Theoretical Quantiles\")\n",
        "plt.ylabel(\"Standardized Residuals\")\n",
        "plt.show()\n",
        "\n",
        "# histogram\n",
        "plt.hist(res.anova_model_out.resid, bins='auto', histtype='bar', ec='k') \n",
        "plt.xlabel(\"Residuo\")\n",
        "plt.ylabel('Frequência')\n",
        "plt.show()"
      ],
      "execution_count": null,
      "outputs": [
        {
          "output_type": "display_data",
          "data": {
            "image/png": "[encoded data removed]",
            "text/plain": [
              "<Figure size 432x288 with 1 Axes>"
            ]
          },
          "metadata": {
            "tags": [],
            "needs_background": "light"
          }
        },
        {
          "output_type": "display_data",
          "data": {
            "image/png": "[encoded data removed]",
            "text/plain": [
              "<Figure size 432x288 with 1 Axes>"
            ]
          },
          "metadata": {
            "tags": [],
            "needs_background": "light"
          }
        }
      ]
    },
    {
      "cell_type": "code",
      "metadata": {
        "colab": {
          "base_uri": "https://localhost:8080/"
        },
        "id": "b6HdwWEU6kLa",
        "outputId": "89fa92f9-a45f-45da-8b54-9ab22df24163"
      },
      "source": [
        "# Teste de Shapiro-Wilk para resíduos \n",
        "stats.shapiro(model.resid)"
      ],
      "execution_count": null,
      "outputs": [
        {
          "output_type": "execute_result",
          "data": {
            "text/plain": [
              "(0.9887959957122803, 0.02628411538898945)"
            ]
          },
          "metadata": {
            "tags": []
          },
          "execution_count": 27
        }
      ]
    },
    {
      "cell_type": "code",
      "metadata": {
        "id": "HDEyeK-i62I_",
        "colab": {
          "base_uri": "https://localhost:8080/",
          "height": 137
        },
        "outputId": "5ba04bb7-1abe-4835-c156-78d0cf478932"
      },
      "source": [
        "# Teste de Bartlett para resíduos \n",
        "res = stat()\n",
        "res.bartlett(df=df_melt, res_var='value', xfac_var='Grupo')\n",
        "res.bartlett_summary"
      ],
      "execution_count": null,
      "outputs": [
        {
          "output_type": "execute_result",
          "data": {
            "text/html": [
              "<div>\n",
              "<style scoped>\n",
              "    .dataframe tbody tr th:only-of-type {\n",
              "        vertical-align: middle;\n",
              "    }\n",
              "\n",
              "    .dataframe tbody tr th {\n",
              "        vertical-align: top;\n",
              "    }\n",
              "\n",
              "    .dataframe thead th {\n",
              "        text-align: right;\n",
              "    }\n",
              "</style>\n",
              "<table border=\"1\" class=\"dataframe\">\n",
              "  <thead>\n",
              "    <tr style=\"text-align: right;\">\n",
              "      <th></th>\n",
              "      <th>Parameter</th>\n",
              "      <th>Value</th>\n",
              "    </tr>\n",
              "  </thead>\n",
              "  <tbody>\n",
              "    <tr>\n",
              "      <th>0</th>\n",
              "      <td>Test statistics (T)</td>\n",
              "      <td>3.4804</td>\n",
              "    </tr>\n",
              "    <tr>\n",
              "      <th>1</th>\n",
              "      <td>Degrees of freedom (Df)</td>\n",
              "      <td>4.0000</td>\n",
              "    </tr>\n",
              "    <tr>\n",
              "      <th>2</th>\n",
              "      <td>p value</td>\n",
              "      <td>0.4809</td>\n",
              "    </tr>\n",
              "  </tbody>\n",
              "</table>\n",
              "</div>"
            ],
            "text/plain": [
              "                 Parameter   Value\n",
              "0      Test statistics (T)  3.4804\n",
              "1  Degrees of freedom (Df)  4.0000\n",
              "2                  p value  0.4809"
            ]
          },
          "metadata": {
            "tags": []
          },
          "execution_count": 28
        }
      ]
    },
    {
      "cell_type": "markdown",
      "metadata": {
        "id": "7fOf1easNQ4I"
      },
      "source": [
        "# Regressão simples\n",
        "Objetivo:\n",
        "\n",
        "Hipóstese:\n",
        "\n",
        "Preaaupoaições:\n",
        "* A relação entre as variáveis Xe ydeve ser linear\n",
        "* Erros (residuais) devem ser independentes uns dos outros\n",
        "* Erros (residuais) devem ser normalmente distribuídos com uma média de 0\n",
        "* Erros (residuais) devem ter variância igual (homocedasticidade)"
      ]
    },
    {
      "cell_type": "code",
      "metadata": {
        "id": "NnRhQCPyNUZv"
      },
      "source": [
        "nota_curso30"
      ],
      "execution_count": null,
      "outputs": []
    },
    {
      "cell_type": "code",
      "metadata": {
        "id": "iPjdkkxLNcYh"
      },
      "source": [
        "X = nota_curso30['Redação'] # variável independente\n",
        "y = nota_curso30['Matemática'] # variável dependente \n",
        "\n",
        "X = sm.add_constant(X)\n",
        "model = sm.OLS(y,X)\n",
        "reg = model.fit()\n",
        "\n",
        "\n"
      ],
      "execution_count": null,
      "outputs": []
    },
    {
      "cell_type": "code",
      "metadata": {
        "id": "y-r5s6vRSNXt",
        "colab": {
          "base_uri": "https://localhost:8080/"
        },
        "outputId": "6c05ac2a-2d14-456d-c636-db1362b6e4ec"
      },
      "source": [
        "print(reg.summary())"
      ],
      "execution_count": null,
      "outputs": [
        {
          "output_type": "stream",
          "text": [
            "                            OLS Regression Results                            \n",
            "==============================================================================\n",
            "Dep. Variable:             Matemática   R-squared:                       0.680\n",
            "Model:                            OLS   Adj. R-squared:                  0.669\n",
            "Method:                 Least Squares   F-statistic:                     59.49\n",
            "Date:                Sun, 28 Mar 2021   Prob (F-statistic):           2.11e-08\n",
            "Time:                        04:14:26   Log-Likelihood:                -106.18\n",
            "No. Observations:                  30   AIC:                             216.4\n",
            "Df Residuals:                      28   BIC:                             219.2\n",
            "Df Model:                           1                                         \n",
            "Covariance Type:            nonrobust                                         \n",
            "==============================================================================\n",
            "                 coef    std err          t      P>|t|      [0.025      0.975]\n",
            "------------------------------------------------------------------------------\n",
            "const          1.0588      9.327      0.114      0.910     -18.048      20.165\n",
            "Redação        0.9253      0.120      7.713      0.000       0.680       1.171\n",
            "==============================================================================\n",
            "Omnibus:                        1.485   Durbin-Watson:                   2.364\n",
            "Prob(Omnibus):                  0.476   Jarque-Bera (JB):                1.372\n",
            "Skew:                           0.414   Prob(JB):                        0.504\n",
            "Kurtosis:                       2.358   Cond. No.                         461.\n",
            "==============================================================================\n",
            "\n",
            "Warnings:\n",
            "[1] Standard Errors assume that the covariance matrix of the errors is correctly specified.\n"
          ],
          "name": "stdout"
        }
      ]
    },
    {
      "cell_type": "code",
      "metadata": {
        "colab": {
          "base_uri": "https://localhost:8080/"
        },
        "id": "y8K-dEGGz7Zq",
        "outputId": "ee88e309-fbdd-440f-97c9-f28e021b76d7"
      },
      "source": [
        " print(reg.t_test([1, 0]))"
      ],
      "execution_count": null,
      "outputs": [
        {
          "output_type": "stream",
          "text": [
            "                             Test for Constraints                             \n",
            "==============================================================================\n",
            "                 coef    std err          t      P>|t|      [0.025      0.975]\n",
            "------------------------------------------------------------------------------\n",
            "c0             1.0588      9.327      0.114      0.910     -18.048      20.165\n",
            "==============================================================================\n"
          ],
          "name": "stdout"
        }
      ]
    },
    {
      "cell_type": "code",
      "metadata": {
        "id": "H0mW4oF-S5IS",
        "colab": {
          "base_uri": "https://localhost:8080/",
          "height": 294
        },
        "outputId": "0824acd4-97f9-472e-9720-ec0619506850"
      },
      "source": [
        "from bioinfokit import visuz\n",
        "# get predicted Y and add to original dataframe\n",
        "nota_curso30['y previsto']=reg.predict(X)\n",
        "df.head(2)\n",
        "# create regression plot with defaults\n",
        "visuz.stat.regplot(df=nota_curso30, x='Redação', y='Matemática', yhat='y previsto', show= True)\n",
        "\n"
      ],
      "execution_count": null,
      "outputs": [
        {
          "output_type": "stream",
          "text": [
            "findfont: Font family ['Arial'] not found. Falling back to DejaVu Sans.\n"
          ],
          "name": "stderr"
        },
        {
          "output_type": "display_data",
          "data": {
            "image/png": "[encoded data removed]",
            "text/plain": [
              "<Figure size 432x288 with 1 Axes>"
            ]
          },
          "metadata": {
            "tags": [],
            "needs_background": "light"
          }
        }
      ]
    },
    {
      "cell_type": "code",
      "metadata": {
        "id": "-7d6UhqLUZ8y",
        "colab": {
          "base_uri": "https://localhost:8080/",
          "height": 107
        },
        "outputId": "13120ec1-54e6-4b79-ef44-01db4ea07829"
      },
      "source": [
        "# get residuals and standardized residuals and add to original dataframe\n",
        "nota_curso30['res']=pd.DataFrame(reg.resid)\n",
        "nota_curso30['std_res']=reg.get_influence().resid_studentized_internal\n",
        "nota_curso30.head(2)"
      ],
      "execution_count": null,
      "outputs": [
        {
          "output_type": "execute_result",
          "data": {
            "text/html": [
              "<div>\n",
              "<style scoped>\n",
              "    .dataframe tbody tr th:only-of-type {\n",
              "        vertical-align: middle;\n",
              "    }\n",
              "\n",
              "    .dataframe tbody tr th {\n",
              "        vertical-align: top;\n",
              "    }\n",
              "\n",
              "    .dataframe thead th {\n",
              "        text-align: right;\n",
              "    }\n",
              "</style>\n",
              "<table border=\"1\" class=\"dataframe\">\n",
              "  <thead>\n",
              "    <tr style=\"text-align: right;\">\n",
              "      <th></th>\n",
              "      <th>Grupo</th>\n",
              "      <th>Preparatório</th>\n",
              "      <th>Matemática</th>\n",
              "      <th>Redação</th>\n",
              "      <th>Linguagem</th>\n",
              "      <th>Nota final</th>\n",
              "      <th>y previsto</th>\n",
              "      <th>res</th>\n",
              "      <th>std_res</th>\n",
              "    </tr>\n",
              "  </thead>\n",
              "  <tbody>\n",
              "    <tr>\n",
              "      <th>180</th>\n",
              "      <td>grupo C</td>\n",
              "      <td>sim</td>\n",
              "      <td>62</td>\n",
              "      <td>75</td>\n",
              "      <td>68</td>\n",
              "      <td>68.333333</td>\n",
              "      <td>70.455363</td>\n",
              "      <td>-8.455363</td>\n",
              "      <td>-0.997150</td>\n",
              "    </tr>\n",
              "    <tr>\n",
              "      <th>403</th>\n",
              "      <td>grupo D</td>\n",
              "      <td>sim</td>\n",
              "      <td>88</td>\n",
              "      <td>100</td>\n",
              "      <td>99</td>\n",
              "      <td>95.666667</td>\n",
              "      <td>93.587563</td>\n",
              "      <td>-5.587563</td>\n",
              "      <td>-0.697995</td>\n",
              "    </tr>\n",
              "  </tbody>\n",
              "</table>\n",
              "</div>"
            ],
            "text/plain": [
              "       Grupo Preparatório  Matemática  ...  y previsto       res   std_res\n",
              "180  grupo C          sim          62  ...   70.455363 -8.455363 -0.997150\n",
              "403  grupo D          sim          88  ...   93.587563 -5.587563 -0.697995\n",
              "\n",
              "[2 rows x 9 columns]"
            ]
          },
          "metadata": {
            "tags": []
          },
          "execution_count": 34
        }
      ]
    },
    {
      "cell_type": "code",
      "metadata": {
        "id": "iz0va3xuVcTo",
        "colab": {
          "base_uri": "https://localhost:8080/",
          "height": 541
        },
        "outputId": "dea0b7d6-b59c-4d6d-8d3f-d16ff26ad137"
      },
      "source": [
        "visuz.stat.reg_resid_plot(df=nota_curso30, yhat='y previsto', resid='res', stdresid='std_res', show= True)"
      ],
      "execution_count": null,
      "outputs": [
        {
          "output_type": "display_data",
          "data": {
            "image/png": "[encoded data removed]",
            "text/plain": [
              "<Figure size 432x288 with 1 Axes>"
            ]
          },
          "metadata": {
            "tags": [],
            "needs_background": "light"
          }
        },
        {
          "output_type": "display_data",
          "data": {
            "image/png": "[encoded data removed]",
            "text/plain": [
              "<Figure size 432x288 with 1 Axes>"
            ]
          },
          "metadata": {
            "tags": [],
            "needs_background": "light"
          }
        }
      ]
    },
    {
      "cell_type": "code",
      "metadata": {
        "colab": {
          "base_uri": "https://localhost:8080/",
          "height": 296
        },
        "id": "l9DJHUg1V2qv",
        "outputId": "27681f46-6cd3-4345-8c41-c4c76400f0e8"
      },
      "source": [
        "import statsmodels.api as sm\n",
        "import matplotlib.pyplot as plt\n",
        "# create QQ plot\n",
        "# line=45 option to plot the data around 45 degree line\n",
        "sm.qqplot(nota_curso30['std_res'], line='45')\n",
        "plt.xlabel(\"Theoretical Quantiles\")\n",
        "plt.ylabel(\"Standardized Residuals\")\n"
      ],
      "execution_count": null,
      "outputs": [
        {
          "output_type": "execute_result",
          "data": {
            "text/plain": [
              "Text(0, 0.5, 'Standardized Residuals')"
            ]
          },
          "metadata": {
            "tags": []
          },
          "execution_count": 36
        },
        {
          "output_type": "display_data",
          "data": {
            "image/png": "[encoded data removed]",
            "text/plain": [
              "<Figure size 432x288 with 1 Axes>"
            ]
          },
          "metadata": {
            "tags": [],
            "needs_background": "light"
          }
        }
      ]
    }
  ]
}